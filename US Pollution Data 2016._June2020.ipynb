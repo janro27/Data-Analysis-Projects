{
 "cells": [
  {
   "cell_type": "markdown",
   "metadata": {},
   "source": [
    "##### Background\n",
    "This dataset deals with pollution in the U.S. It contains daily data for the four major pollutants NO2, O3, SO2 and CO during 2000 and 2016. The file was not put together by myself, but I accessed it from https://www.kaggle.com/sogun3/uspollution.\n",
    "The data set comes with 28 variables (among which each of the four pollutations represents five columns) and more than one million observations.\n",
    "\n",
    "The original data was scraped from the database of U.S. EPA : https://aqsdr1.epa.gov/aqsweb/aqstmp/airdata/download_files.html\n",
    "\n",
    "This notebook mainly deals with pollution in the state California, since it by far has the most data points. The focus of this work is on data cleaning and visualization.\n",
    "\n",
    "Remarks and suggestions for improvement are very welcome."
   ]
  },
  {
   "cell_type": "code",
   "execution_count": 1,
   "metadata": {},
   "outputs": [],
   "source": [
    "import pandas as pd\n",
    "import matplotlib.pyplot as pp"
   ]
  },
  {
   "cell_type": "code",
   "execution_count": 2,
   "metadata": {},
   "outputs": [],
   "source": [
    "raw_data = pd.read_csv('C:/Users/HP/Documents/Python Projects/US Pollution 2016/pollution_us_2000_2016.csv')"
   ]
  },
  {
   "cell_type": "code",
   "execution_count": 3,
   "metadata": {},
   "outputs": [
    {
     "data": {
      "text/html": [
       "<div>\n",
       "<style scoped>\n",
       "    .dataframe tbody tr th:only-of-type {\n",
       "        vertical-align: middle;\n",
       "    }\n",
       "\n",
       "    .dataframe tbody tr th {\n",
       "        vertical-align: top;\n",
       "    }\n",
       "\n",
       "    .dataframe thead th {\n",
       "        text-align: right;\n",
       "    }\n",
       "</style>\n",
       "<table border=\"1\" class=\"dataframe\">\n",
       "  <thead>\n",
       "    <tr style=\"text-align: right;\">\n",
       "      <th></th>\n",
       "      <th>Unnamed: 0</th>\n",
       "      <th>State Code</th>\n",
       "      <th>County Code</th>\n",
       "      <th>Site Num</th>\n",
       "      <th>Address</th>\n",
       "      <th>State</th>\n",
       "      <th>County</th>\n",
       "      <th>City</th>\n",
       "      <th>Date Local</th>\n",
       "      <th>NO2 Units</th>\n",
       "      <th>...</th>\n",
       "      <th>SO2 Units</th>\n",
       "      <th>SO2 Mean</th>\n",
       "      <th>SO2 1st Max Value</th>\n",
       "      <th>SO2 1st Max Hour</th>\n",
       "      <th>SO2 AQI</th>\n",
       "      <th>CO Units</th>\n",
       "      <th>CO Mean</th>\n",
       "      <th>CO 1st Max Value</th>\n",
       "      <th>CO 1st Max Hour</th>\n",
       "      <th>CO AQI</th>\n",
       "    </tr>\n",
       "  </thead>\n",
       "  <tbody>\n",
       "    <tr>\n",
       "      <th>0</th>\n",
       "      <td>0</td>\n",
       "      <td>4</td>\n",
       "      <td>13</td>\n",
       "      <td>3002</td>\n",
       "      <td>1645 E ROOSEVELT ST-CENTRAL PHOENIX STN</td>\n",
       "      <td>Arizona</td>\n",
       "      <td>Maricopa</td>\n",
       "      <td>Phoenix</td>\n",
       "      <td>01/01/2000</td>\n",
       "      <td>Parts per billion</td>\n",
       "      <td>...</td>\n",
       "      <td>Parts per billion</td>\n",
       "      <td>3.000000</td>\n",
       "      <td>9.0</td>\n",
       "      <td>21</td>\n",
       "      <td>13.0</td>\n",
       "      <td>Parts per million</td>\n",
       "      <td>1.145833</td>\n",
       "      <td>4.2</td>\n",
       "      <td>21</td>\n",
       "      <td>NaN</td>\n",
       "    </tr>\n",
       "    <tr>\n",
       "      <th>1</th>\n",
       "      <td>1</td>\n",
       "      <td>4</td>\n",
       "      <td>13</td>\n",
       "      <td>3002</td>\n",
       "      <td>1645 E ROOSEVELT ST-CENTRAL PHOENIX STN</td>\n",
       "      <td>Arizona</td>\n",
       "      <td>Maricopa</td>\n",
       "      <td>Phoenix</td>\n",
       "      <td>01/01/2000</td>\n",
       "      <td>Parts per billion</td>\n",
       "      <td>...</td>\n",
       "      <td>Parts per billion</td>\n",
       "      <td>3.000000</td>\n",
       "      <td>9.0</td>\n",
       "      <td>21</td>\n",
       "      <td>13.0</td>\n",
       "      <td>Parts per million</td>\n",
       "      <td>0.878947</td>\n",
       "      <td>2.2</td>\n",
       "      <td>23</td>\n",
       "      <td>25.0</td>\n",
       "    </tr>\n",
       "    <tr>\n",
       "      <th>2</th>\n",
       "      <td>2</td>\n",
       "      <td>4</td>\n",
       "      <td>13</td>\n",
       "      <td>3002</td>\n",
       "      <td>1645 E ROOSEVELT ST-CENTRAL PHOENIX STN</td>\n",
       "      <td>Arizona</td>\n",
       "      <td>Maricopa</td>\n",
       "      <td>Phoenix</td>\n",
       "      <td>01/01/2000</td>\n",
       "      <td>Parts per billion</td>\n",
       "      <td>...</td>\n",
       "      <td>Parts per billion</td>\n",
       "      <td>2.975000</td>\n",
       "      <td>6.6</td>\n",
       "      <td>23</td>\n",
       "      <td>NaN</td>\n",
       "      <td>Parts per million</td>\n",
       "      <td>1.145833</td>\n",
       "      <td>4.2</td>\n",
       "      <td>21</td>\n",
       "      <td>NaN</td>\n",
       "    </tr>\n",
       "    <tr>\n",
       "      <th>3</th>\n",
       "      <td>3</td>\n",
       "      <td>4</td>\n",
       "      <td>13</td>\n",
       "      <td>3002</td>\n",
       "      <td>1645 E ROOSEVELT ST-CENTRAL PHOENIX STN</td>\n",
       "      <td>Arizona</td>\n",
       "      <td>Maricopa</td>\n",
       "      <td>Phoenix</td>\n",
       "      <td>01/01/2000</td>\n",
       "      <td>Parts per billion</td>\n",
       "      <td>...</td>\n",
       "      <td>Parts per billion</td>\n",
       "      <td>2.975000</td>\n",
       "      <td>6.6</td>\n",
       "      <td>23</td>\n",
       "      <td>NaN</td>\n",
       "      <td>Parts per million</td>\n",
       "      <td>0.878947</td>\n",
       "      <td>2.2</td>\n",
       "      <td>23</td>\n",
       "      <td>25.0</td>\n",
       "    </tr>\n",
       "    <tr>\n",
       "      <th>4</th>\n",
       "      <td>4</td>\n",
       "      <td>4</td>\n",
       "      <td>13</td>\n",
       "      <td>3002</td>\n",
       "      <td>1645 E ROOSEVELT ST-CENTRAL PHOENIX STN</td>\n",
       "      <td>Arizona</td>\n",
       "      <td>Maricopa</td>\n",
       "      <td>Phoenix</td>\n",
       "      <td>02/01/2000</td>\n",
       "      <td>Parts per billion</td>\n",
       "      <td>...</td>\n",
       "      <td>Parts per billion</td>\n",
       "      <td>1.958333</td>\n",
       "      <td>3.0</td>\n",
       "      <td>22</td>\n",
       "      <td>4.0</td>\n",
       "      <td>Parts per million</td>\n",
       "      <td>0.850000</td>\n",
       "      <td>1.6</td>\n",
       "      <td>23</td>\n",
       "      <td>NaN</td>\n",
       "    </tr>\n",
       "  </tbody>\n",
       "</table>\n",
       "<p>5 rows × 29 columns</p>\n",
       "</div>"
      ],
      "text/plain": [
       "   Unnamed: 0  State Code  County Code  Site Num  \\\n",
       "0           0           4           13      3002   \n",
       "1           1           4           13      3002   \n",
       "2           2           4           13      3002   \n",
       "3           3           4           13      3002   \n",
       "4           4           4           13      3002   \n",
       "\n",
       "                                   Address    State    County     City  \\\n",
       "0  1645 E ROOSEVELT ST-CENTRAL PHOENIX STN  Arizona  Maricopa  Phoenix   \n",
       "1  1645 E ROOSEVELT ST-CENTRAL PHOENIX STN  Arizona  Maricopa  Phoenix   \n",
       "2  1645 E ROOSEVELT ST-CENTRAL PHOENIX STN  Arizona  Maricopa  Phoenix   \n",
       "3  1645 E ROOSEVELT ST-CENTRAL PHOENIX STN  Arizona  Maricopa  Phoenix   \n",
       "4  1645 E ROOSEVELT ST-CENTRAL PHOENIX STN  Arizona  Maricopa  Phoenix   \n",
       "\n",
       "   Date Local          NO2 Units  ...          SO2 Units  SO2 Mean  \\\n",
       "0  01/01/2000  Parts per billion  ...  Parts per billion  3.000000   \n",
       "1  01/01/2000  Parts per billion  ...  Parts per billion  3.000000   \n",
       "2  01/01/2000  Parts per billion  ...  Parts per billion  2.975000   \n",
       "3  01/01/2000  Parts per billion  ...  Parts per billion  2.975000   \n",
       "4  02/01/2000  Parts per billion  ...  Parts per billion  1.958333   \n",
       "\n",
       "   SO2 1st Max Value  SO2 1st Max Hour SO2 AQI           CO Units   CO Mean  \\\n",
       "0                9.0                21    13.0  Parts per million  1.145833   \n",
       "1                9.0                21    13.0  Parts per million  0.878947   \n",
       "2                6.6                23     NaN  Parts per million  1.145833   \n",
       "3                6.6                23     NaN  Parts per million  0.878947   \n",
       "4                3.0                22     4.0  Parts per million  0.850000   \n",
       "\n",
       "   CO 1st Max Value  CO 1st Max Hour CO AQI  \n",
       "0               4.2               21    NaN  \n",
       "1               2.2               23   25.0  \n",
       "2               4.2               21    NaN  \n",
       "3               2.2               23   25.0  \n",
       "4               1.6               23    NaN  \n",
       "\n",
       "[5 rows x 29 columns]"
      ]
     },
     "execution_count": 3,
     "metadata": {},
     "output_type": "execute_result"
    }
   ],
   "source": [
    "raw_data.head(5)"
   ]
  },
  {
   "cell_type": "markdown",
   "metadata": {},
   "source": [
    "Show all column names"
   ]
  },
  {
   "cell_type": "code",
   "execution_count": 4,
   "metadata": {},
   "outputs": [
    {
     "data": {
      "text/plain": [
       "Index(['Unnamed: 0', 'State Code', 'County Code', 'Site Num', 'Address',\n",
       "       'State', 'County', 'City', 'Date Local', 'NO2 Units', 'NO2 Mean',\n",
       "       'NO2 1st Max Value', 'NO2 1st Max Hour', 'NO2 AQI', 'O3 Units',\n",
       "       'O3 Mean', 'O3 1st Max Value', 'O3 1st Max Hour', 'O3 AQI', 'SO2 Units',\n",
       "       'SO2 Mean', 'SO2 1st Max Value', 'SO2 1st Max Hour', 'SO2 AQI',\n",
       "       'CO Units', 'CO Mean', 'CO 1st Max Value', 'CO 1st Max Hour', 'CO AQI'],\n",
       "      dtype='object')"
      ]
     },
     "execution_count": 4,
     "metadata": {},
     "output_type": "execute_result"
    }
   ],
   "source": [
    "raw_data.columns"
   ]
  },
  {
   "cell_type": "markdown",
   "metadata": {},
   "source": [
    "Drop not needed columns"
   ]
  },
  {
   "cell_type": "code",
   "execution_count": 5,
   "metadata": {},
   "outputs": [],
   "source": [
    "data = raw_data.drop(['Unnamed: 0', 'State Code', 'County Code', 'Site Num', 'Address', 'County', 'NO2 Units', \n",
    "        'O3 Units', 'SO2 Units', 'CO Units'], axis = 1)"
   ]
  },
  {
   "cell_type": "code",
   "execution_count": 6,
   "metadata": {},
   "outputs": [
    {
     "data": {
      "text/plain": [
       "Index(['State', 'City', 'Date Local', 'NO2 Mean', 'NO2 1st Max Value',\n",
       "       'NO2 1st Max Hour', 'NO2 AQI', 'O3 Mean', 'O3 1st Max Value',\n",
       "       'O3 1st Max Hour', 'O3 AQI', 'SO2 Mean', 'SO2 1st Max Value',\n",
       "       'SO2 1st Max Hour', 'SO2 AQI', 'CO Mean', 'CO 1st Max Value',\n",
       "       'CO 1st Max Hour', 'CO AQI'],\n",
       "      dtype='object')"
      ]
     },
     "execution_count": 6,
     "metadata": {},
     "output_type": "execute_result"
    }
   ],
   "source": [
    "data.columns"
   ]
  },
  {
   "cell_type": "markdown",
   "metadata": {},
   "source": [
    "Show data descriptive statistics for all variables"
   ]
  },
  {
   "cell_type": "code",
   "execution_count": 7,
   "metadata": {},
   "outputs": [
    {
     "data": {
      "text/html": [
       "<div>\n",
       "<style scoped>\n",
       "    .dataframe tbody tr th:only-of-type {\n",
       "        vertical-align: middle;\n",
       "    }\n",
       "\n",
       "    .dataframe tbody tr th {\n",
       "        vertical-align: top;\n",
       "    }\n",
       "\n",
       "    .dataframe thead th {\n",
       "        text-align: right;\n",
       "    }\n",
       "</style>\n",
       "<table border=\"1\" class=\"dataframe\">\n",
       "  <thead>\n",
       "    <tr style=\"text-align: right;\">\n",
       "      <th></th>\n",
       "      <th>State</th>\n",
       "      <th>City</th>\n",
       "      <th>Date Local</th>\n",
       "      <th>NO2 Mean</th>\n",
       "      <th>NO2 1st Max Value</th>\n",
       "      <th>NO2 1st Max Hour</th>\n",
       "      <th>NO2 AQI</th>\n",
       "      <th>O3 Mean</th>\n",
       "      <th>O3 1st Max Value</th>\n",
       "      <th>O3 1st Max Hour</th>\n",
       "      <th>O3 AQI</th>\n",
       "      <th>SO2 Mean</th>\n",
       "      <th>SO2 1st Max Value</th>\n",
       "      <th>SO2 1st Max Hour</th>\n",
       "      <th>SO2 AQI</th>\n",
       "      <th>CO Mean</th>\n",
       "      <th>CO 1st Max Value</th>\n",
       "      <th>CO 1st Max Hour</th>\n",
       "      <th>CO AQI</th>\n",
       "    </tr>\n",
       "  </thead>\n",
       "  <tbody>\n",
       "    <tr>\n",
       "      <th>count</th>\n",
       "      <td>1048575</td>\n",
       "      <td>1048575</td>\n",
       "      <td>1048575</td>\n",
       "      <td>1.048575e+06</td>\n",
       "      <td>1.048575e+06</td>\n",
       "      <td>1.048575e+06</td>\n",
       "      <td>1.048575e+06</td>\n",
       "      <td>1.048575e+06</td>\n",
       "      <td>1.048575e+06</td>\n",
       "      <td>1.048575e+06</td>\n",
       "      <td>1.048575e+06</td>\n",
       "      <td>1.048575e+06</td>\n",
       "      <td>1.048575e+06</td>\n",
       "      <td>1.048575e+06</td>\n",
       "      <td>524489.000000</td>\n",
       "      <td>1.048575e+06</td>\n",
       "      <td>1.048575e+06</td>\n",
       "      <td>1.048575e+06</td>\n",
       "      <td>524352.000000</td>\n",
       "    </tr>\n",
       "    <tr>\n",
       "      <th>unique</th>\n",
       "      <td>37</td>\n",
       "      <td>120</td>\n",
       "      <td>4018</td>\n",
       "      <td>NaN</td>\n",
       "      <td>NaN</td>\n",
       "      <td>NaN</td>\n",
       "      <td>NaN</td>\n",
       "      <td>NaN</td>\n",
       "      <td>NaN</td>\n",
       "      <td>NaN</td>\n",
       "      <td>NaN</td>\n",
       "      <td>NaN</td>\n",
       "      <td>NaN</td>\n",
       "      <td>NaN</td>\n",
       "      <td>NaN</td>\n",
       "      <td>NaN</td>\n",
       "      <td>NaN</td>\n",
       "      <td>NaN</td>\n",
       "      <td>NaN</td>\n",
       "    </tr>\n",
       "    <tr>\n",
       "      <th>top</th>\n",
       "      <td>California</td>\n",
       "      <td>Not in a city</td>\n",
       "      <td>10/06/2002</td>\n",
       "      <td>NaN</td>\n",
       "      <td>NaN</td>\n",
       "      <td>NaN</td>\n",
       "      <td>NaN</td>\n",
       "      <td>NaN</td>\n",
       "      <td>NaN</td>\n",
       "      <td>NaN</td>\n",
       "      <td>NaN</td>\n",
       "      <td>NaN</td>\n",
       "      <td>NaN</td>\n",
       "      <td>NaN</td>\n",
       "      <td>NaN</td>\n",
       "      <td>NaN</td>\n",
       "      <td>NaN</td>\n",
       "      <td>NaN</td>\n",
       "      <td>NaN</td>\n",
       "    </tr>\n",
       "    <tr>\n",
       "      <th>freq</th>\n",
       "      <td>397532</td>\n",
       "      <td>65402</td>\n",
       "      <td>640</td>\n",
       "      <td>NaN</td>\n",
       "      <td>NaN</td>\n",
       "      <td>NaN</td>\n",
       "      <td>NaN</td>\n",
       "      <td>NaN</td>\n",
       "      <td>NaN</td>\n",
       "      <td>NaN</td>\n",
       "      <td>NaN</td>\n",
       "      <td>NaN</td>\n",
       "      <td>NaN</td>\n",
       "      <td>NaN</td>\n",
       "      <td>NaN</td>\n",
       "      <td>NaN</td>\n",
       "      <td>NaN</td>\n",
       "      <td>NaN</td>\n",
       "      <td>NaN</td>\n",
       "    </tr>\n",
       "    <tr>\n",
       "      <th>mean</th>\n",
       "      <td>NaN</td>\n",
       "      <td>NaN</td>\n",
       "      <td>NaN</td>\n",
       "      <td>1.447425e+01</td>\n",
       "      <td>2.810977e+01</td>\n",
       "      <td>1.186842e+01</td>\n",
       "      <td>2.655708e+01</td>\n",
       "      <td>2.574110e-02</td>\n",
       "      <td>3.967055e-02</td>\n",
       "      <td>1.016144e+01</td>\n",
       "      <td>3.607080e+01</td>\n",
       "      <td>2.488623e+00</td>\n",
       "      <td>5.964118e+00</td>\n",
       "      <td>9.491689e+00</td>\n",
       "      <td>9.674317</td>\n",
       "      <td>4.221252e-01</td>\n",
       "      <td>7.282010e-01</td>\n",
       "      <td>8.058085e+00</td>\n",
       "      <td>7.026795</td>\n",
       "    </tr>\n",
       "    <tr>\n",
       "      <th>std</th>\n",
       "      <td>NaN</td>\n",
       "      <td>NaN</td>\n",
       "      <td>NaN</td>\n",
       "      <td>1.003320e+01</td>\n",
       "      <td>1.670082e+01</td>\n",
       "      <td>7.861519e+00</td>\n",
       "      <td>1.580662e+01</td>\n",
       "      <td>1.165894e-02</td>\n",
       "      <td>1.615542e-02</td>\n",
       "      <td>3.911422e+00</td>\n",
       "      <td>2.087103e+01</td>\n",
       "      <td>3.220715e+00</td>\n",
       "      <td>8.982167e+00</td>\n",
       "      <td>6.745944e+00</td>\n",
       "      <td>13.752017</td>\n",
       "      <td>3.601106e-01</td>\n",
       "      <td>7.451072e-01</td>\n",
       "      <td>7.963635e+00</td>\n",
       "      <td>6.724737</td>\n",
       "    </tr>\n",
       "    <tr>\n",
       "      <th>min</th>\n",
       "      <td>NaN</td>\n",
       "      <td>NaN</td>\n",
       "      <td>NaN</td>\n",
       "      <td>0.000000e+00</td>\n",
       "      <td>0.000000e+00</td>\n",
       "      <td>0.000000e+00</td>\n",
       "      <td>0.000000e+00</td>\n",
       "      <td>0.000000e+00</td>\n",
       "      <td>0.000000e+00</td>\n",
       "      <td>0.000000e+00</td>\n",
       "      <td>0.000000e+00</td>\n",
       "      <td>-4.545450e-01</td>\n",
       "      <td>-3.000000e-01</td>\n",
       "      <td>0.000000e+00</td>\n",
       "      <td>0.000000</td>\n",
       "      <td>0.000000e+00</td>\n",
       "      <td>0.000000e+00</td>\n",
       "      <td>0.000000e+00</td>\n",
       "      <td>0.000000</td>\n",
       "    </tr>\n",
       "    <tr>\n",
       "      <th>25%</th>\n",
       "      <td>NaN</td>\n",
       "      <td>NaN</td>\n",
       "      <td>NaN</td>\n",
       "      <td>7.086957e+00</td>\n",
       "      <td>1.600000e+01</td>\n",
       "      <td>6.000000e+00</td>\n",
       "      <td>1.500000e+01</td>\n",
       "      <td>1.720800e-02</td>\n",
       "      <td>2.900000e-02</td>\n",
       "      <td>9.000000e+00</td>\n",
       "      <td>2.500000e+01</td>\n",
       "      <td>4.571430e-01</td>\n",
       "      <td>1.000000e+00</td>\n",
       "      <td>4.000000e+00</td>\n",
       "      <td>1.000000</td>\n",
       "      <td>2.000000e-01</td>\n",
       "      <td>3.000000e-01</td>\n",
       "      <td>0.000000e+00</td>\n",
       "      <td>3.000000</td>\n",
       "    </tr>\n",
       "    <tr>\n",
       "      <th>50%</th>\n",
       "      <td>NaN</td>\n",
       "      <td>NaN</td>\n",
       "      <td>NaN</td>\n",
       "      <td>1.250000e+01</td>\n",
       "      <td>2.700000e+01</td>\n",
       "      <td>1.000000e+01</td>\n",
       "      <td>2.500000e+01</td>\n",
       "      <td>2.545800e-02</td>\n",
       "      <td>3.900000e-02</td>\n",
       "      <td>1.000000e+01</td>\n",
       "      <td>3.300000e+01</td>\n",
       "      <td>1.425000e+00</td>\n",
       "      <td>3.000000e+00</td>\n",
       "      <td>8.000000e+00</td>\n",
       "      <td>4.000000</td>\n",
       "      <td>3.391300e-01</td>\n",
       "      <td>5.000000e-01</td>\n",
       "      <td>6.000000e+00</td>\n",
       "      <td>6.000000</td>\n",
       "    </tr>\n",
       "    <tr>\n",
       "      <th>75%</th>\n",
       "      <td>NaN</td>\n",
       "      <td>NaN</td>\n",
       "      <td>NaN</td>\n",
       "      <td>1.975000e+01</td>\n",
       "      <td>3.800000e+01</td>\n",
       "      <td>2.000000e+01</td>\n",
       "      <td>3.600000e+01</td>\n",
       "      <td>3.366700e-02</td>\n",
       "      <td>4.900000e-02</td>\n",
       "      <td>1.100000e+01</td>\n",
       "      <td>4.200000e+01</td>\n",
       "      <td>3.291667e+00</td>\n",
       "      <td>7.000000e+00</td>\n",
       "      <td>1.400000e+01</td>\n",
       "      <td>11.000000</td>\n",
       "      <td>5.416670e-01</td>\n",
       "      <td>9.000000e-01</td>\n",
       "      <td>1.400000e+01</td>\n",
       "      <td>9.000000</td>\n",
       "    </tr>\n",
       "    <tr>\n",
       "      <th>max</th>\n",
       "      <td>NaN</td>\n",
       "      <td>NaN</td>\n",
       "      <td>NaN</td>\n",
       "      <td>1.395417e+02</td>\n",
       "      <td>2.670000e+02</td>\n",
       "      <td>2.300000e+01</td>\n",
       "      <td>1.320000e+02</td>\n",
       "      <td>9.508300e-02</td>\n",
       "      <td>1.410000e-01</td>\n",
       "      <td>2.300000e+01</td>\n",
       "      <td>2.110000e+02</td>\n",
       "      <td>3.216250e+02</td>\n",
       "      <td>3.510000e+02</td>\n",
       "      <td>2.300000e+01</td>\n",
       "      <td>200.000000</td>\n",
       "      <td>7.508333e+00</td>\n",
       "      <td>1.990000e+01</td>\n",
       "      <td>2.300000e+01</td>\n",
       "      <td>201.000000</td>\n",
       "    </tr>\n",
       "  </tbody>\n",
       "</table>\n",
       "</div>"
      ],
      "text/plain": [
       "             State           City  Date Local      NO2 Mean  \\\n",
       "count      1048575        1048575     1048575  1.048575e+06   \n",
       "unique          37            120        4018           NaN   \n",
       "top     California  Not in a city  10/06/2002           NaN   \n",
       "freq        397532          65402         640           NaN   \n",
       "mean           NaN            NaN         NaN  1.447425e+01   \n",
       "std            NaN            NaN         NaN  1.003320e+01   \n",
       "min            NaN            NaN         NaN  0.000000e+00   \n",
       "25%            NaN            NaN         NaN  7.086957e+00   \n",
       "50%            NaN            NaN         NaN  1.250000e+01   \n",
       "75%            NaN            NaN         NaN  1.975000e+01   \n",
       "max            NaN            NaN         NaN  1.395417e+02   \n",
       "\n",
       "        NO2 1st Max Value  NO2 1st Max Hour       NO2 AQI       O3 Mean  \\\n",
       "count        1.048575e+06      1.048575e+06  1.048575e+06  1.048575e+06   \n",
       "unique                NaN               NaN           NaN           NaN   \n",
       "top                   NaN               NaN           NaN           NaN   \n",
       "freq                  NaN               NaN           NaN           NaN   \n",
       "mean         2.810977e+01      1.186842e+01  2.655708e+01  2.574110e-02   \n",
       "std          1.670082e+01      7.861519e+00  1.580662e+01  1.165894e-02   \n",
       "min          0.000000e+00      0.000000e+00  0.000000e+00  0.000000e+00   \n",
       "25%          1.600000e+01      6.000000e+00  1.500000e+01  1.720800e-02   \n",
       "50%          2.700000e+01      1.000000e+01  2.500000e+01  2.545800e-02   \n",
       "75%          3.800000e+01      2.000000e+01  3.600000e+01  3.366700e-02   \n",
       "max          2.670000e+02      2.300000e+01  1.320000e+02  9.508300e-02   \n",
       "\n",
       "        O3 1st Max Value  O3 1st Max Hour        O3 AQI      SO2 Mean  \\\n",
       "count       1.048575e+06     1.048575e+06  1.048575e+06  1.048575e+06   \n",
       "unique               NaN              NaN           NaN           NaN   \n",
       "top                  NaN              NaN           NaN           NaN   \n",
       "freq                 NaN              NaN           NaN           NaN   \n",
       "mean        3.967055e-02     1.016144e+01  3.607080e+01  2.488623e+00   \n",
       "std         1.615542e-02     3.911422e+00  2.087103e+01  3.220715e+00   \n",
       "min         0.000000e+00     0.000000e+00  0.000000e+00 -4.545450e-01   \n",
       "25%         2.900000e-02     9.000000e+00  2.500000e+01  4.571430e-01   \n",
       "50%         3.900000e-02     1.000000e+01  3.300000e+01  1.425000e+00   \n",
       "75%         4.900000e-02     1.100000e+01  4.200000e+01  3.291667e+00   \n",
       "max         1.410000e-01     2.300000e+01  2.110000e+02  3.216250e+02   \n",
       "\n",
       "        SO2 1st Max Value  SO2 1st Max Hour        SO2 AQI       CO Mean  \\\n",
       "count        1.048575e+06      1.048575e+06  524489.000000  1.048575e+06   \n",
       "unique                NaN               NaN            NaN           NaN   \n",
       "top                   NaN               NaN            NaN           NaN   \n",
       "freq                  NaN               NaN            NaN           NaN   \n",
       "mean         5.964118e+00      9.491689e+00       9.674317  4.221252e-01   \n",
       "std          8.982167e+00      6.745944e+00      13.752017  3.601106e-01   \n",
       "min         -3.000000e-01      0.000000e+00       0.000000  0.000000e+00   \n",
       "25%          1.000000e+00      4.000000e+00       1.000000  2.000000e-01   \n",
       "50%          3.000000e+00      8.000000e+00       4.000000  3.391300e-01   \n",
       "75%          7.000000e+00      1.400000e+01      11.000000  5.416670e-01   \n",
       "max          3.510000e+02      2.300000e+01     200.000000  7.508333e+00   \n",
       "\n",
       "        CO 1st Max Value  CO 1st Max Hour         CO AQI  \n",
       "count       1.048575e+06     1.048575e+06  524352.000000  \n",
       "unique               NaN              NaN            NaN  \n",
       "top                  NaN              NaN            NaN  \n",
       "freq                 NaN              NaN            NaN  \n",
       "mean        7.282010e-01     8.058085e+00       7.026795  \n",
       "std         7.451072e-01     7.963635e+00       6.724737  \n",
       "min         0.000000e+00     0.000000e+00       0.000000  \n",
       "25%         3.000000e-01     0.000000e+00       3.000000  \n",
       "50%         5.000000e-01     6.000000e+00       6.000000  \n",
       "75%         9.000000e-01     1.400000e+01       9.000000  \n",
       "max         1.990000e+01     2.300000e+01     201.000000  "
      ]
     },
     "execution_count": 7,
     "metadata": {},
     "output_type": "execute_result"
    }
   ],
   "source": [
    "data.describe(include='all')"
   ]
  },
  {
   "cell_type": "markdown",
   "metadata": {},
   "source": [
    "#### Check for missing values (NAs)"
   ]
  },
  {
   "cell_type": "code",
   "execution_count": 8,
   "metadata": {},
   "outputs": [
    {
     "data": {
      "text/plain": [
       "State                     0\n",
       "City                      0\n",
       "Date Local                0\n",
       "NO2 Mean                  0\n",
       "NO2 1st Max Value         0\n",
       "NO2 1st Max Hour          0\n",
       "NO2 AQI                   0\n",
       "O3 Mean                   0\n",
       "O3 1st Max Value          0\n",
       "O3 1st Max Hour           0\n",
       "O3 AQI                    0\n",
       "SO2 Mean                  0\n",
       "SO2 1st Max Value         0\n",
       "SO2 1st Max Hour          0\n",
       "SO2 AQI              524086\n",
       "CO Mean                   0\n",
       "CO 1st Max Value          0\n",
       "CO 1st Max Hour           0\n",
       "CO AQI               524223\n",
       "dtype: int64"
      ]
     },
     "execution_count": 8,
     "metadata": {},
     "output_type": "execute_result"
    }
   ],
   "source": [
    "data.isnull().sum()"
   ]
  },
  {
   "cell_type": "markdown",
   "metadata": {},
   "source": [
    "#### Drop missing values"
   ]
  },
  {
   "cell_type": "markdown",
   "metadata": {},
   "source": [
    "SO2 Air Quality and CO Air Quality variables have missing values for about half of the data set's 1 million observations.\n",
    "For simplicity and to speed up the computing time in Jupyer Lab, I simply drop all observations with NAs."
   ]
  },
  {
   "cell_type": "code",
   "execution_count": 9,
   "metadata": {},
   "outputs": [],
   "source": [
    "data_no_mv =  data.dropna(axis=0)"
   ]
  },
  {
   "cell_type": "code",
   "execution_count": 10,
   "metadata": {},
   "outputs": [
    {
     "data": {
      "text/plain": [
       "State                0\n",
       "City                 0\n",
       "Date Local           0\n",
       "NO2 Mean             0\n",
       "NO2 1st Max Value    0\n",
       "NO2 1st Max Hour     0\n",
       "NO2 AQI              0\n",
       "O3 Mean              0\n",
       "O3 1st Max Value     0\n",
       "O3 1st Max Hour      0\n",
       "O3 AQI               0\n",
       "SO2 Mean             0\n",
       "SO2 1st Max Value    0\n",
       "SO2 1st Max Hour     0\n",
       "SO2 AQI              0\n",
       "CO Mean              0\n",
       "CO 1st Max Value     0\n",
       "CO 1st Max Hour      0\n",
       "CO AQI               0\n",
       "dtype: int64"
      ]
     },
     "execution_count": 10,
     "metadata": {},
     "output_type": "execute_result"
    }
   ],
   "source": [
    "# Double-check that no NA's exist anymore\n",
    "data_no_mv.isna().sum()"
   ]
  },
  {
   "cell_type": "markdown",
   "metadata": {},
   "source": [
    "##### Remove duplicates"
   ]
  },
  {
   "cell_type": "code",
   "execution_count": 11,
   "metadata": {},
   "outputs": [
    {
     "data": {
      "text/plain": [
       "611"
      ]
     },
     "execution_count": 11,
     "metadata": {},
     "output_type": "execute_result"
    }
   ],
   "source": [
    "data_no_mv.duplicated().sum()"
   ]
  },
  {
   "cell_type": "code",
   "execution_count": 12,
   "metadata": {},
   "outputs": [],
   "source": [
    "data_no_dupl = data_no_mv.drop_duplicates()"
   ]
  },
  {
   "cell_type": "code",
   "execution_count": 13,
   "metadata": {},
   "outputs": [
    {
     "data": {
      "text/html": [
       "<div>\n",
       "<style scoped>\n",
       "    .dataframe tbody tr th:only-of-type {\n",
       "        vertical-align: middle;\n",
       "    }\n",
       "\n",
       "    .dataframe tbody tr th {\n",
       "        vertical-align: top;\n",
       "    }\n",
       "\n",
       "    .dataframe thead th {\n",
       "        text-align: right;\n",
       "    }\n",
       "</style>\n",
       "<table border=\"1\" class=\"dataframe\">\n",
       "  <thead>\n",
       "    <tr style=\"text-align: right;\">\n",
       "      <th></th>\n",
       "      <th>State</th>\n",
       "      <th>City</th>\n",
       "      <th>Date Local</th>\n",
       "      <th>NO2 Mean</th>\n",
       "      <th>NO2 1st Max Value</th>\n",
       "      <th>NO2 1st Max Hour</th>\n",
       "      <th>NO2 AQI</th>\n",
       "      <th>O3 Mean</th>\n",
       "      <th>O3 1st Max Value</th>\n",
       "      <th>O3 1st Max Hour</th>\n",
       "      <th>O3 AQI</th>\n",
       "      <th>SO2 Mean</th>\n",
       "      <th>SO2 1st Max Value</th>\n",
       "      <th>SO2 1st Max Hour</th>\n",
       "      <th>SO2 AQI</th>\n",
       "      <th>CO Mean</th>\n",
       "      <th>CO 1st Max Value</th>\n",
       "      <th>CO 1st Max Hour</th>\n",
       "      <th>CO AQI</th>\n",
       "    </tr>\n",
       "  </thead>\n",
       "  <tbody>\n",
       "    <tr>\n",
       "      <th>count</th>\n",
       "      <td>261662</td>\n",
       "      <td>261662</td>\n",
       "      <td>261662</td>\n",
       "      <td>261662.000000</td>\n",
       "      <td>261662.000000</td>\n",
       "      <td>261662.000000</td>\n",
       "      <td>261662.000000</td>\n",
       "      <td>261662.000000</td>\n",
       "      <td>261662.000000</td>\n",
       "      <td>261662.000000</td>\n",
       "      <td>261662.000000</td>\n",
       "      <td>261662.000000</td>\n",
       "      <td>261662.000000</td>\n",
       "      <td>261662.000000</td>\n",
       "      <td>261662.000000</td>\n",
       "      <td>261662.000000</td>\n",
       "      <td>261662.000000</td>\n",
       "      <td>261662.000000</td>\n",
       "      <td>261662.000000</td>\n",
       "    </tr>\n",
       "    <tr>\n",
       "      <th>unique</th>\n",
       "      <td>37</td>\n",
       "      <td>120</td>\n",
       "      <td>4018</td>\n",
       "      <td>NaN</td>\n",
       "      <td>NaN</td>\n",
       "      <td>NaN</td>\n",
       "      <td>NaN</td>\n",
       "      <td>NaN</td>\n",
       "      <td>NaN</td>\n",
       "      <td>NaN</td>\n",
       "      <td>NaN</td>\n",
       "      <td>NaN</td>\n",
       "      <td>NaN</td>\n",
       "      <td>NaN</td>\n",
       "      <td>NaN</td>\n",
       "      <td>NaN</td>\n",
       "      <td>NaN</td>\n",
       "      <td>NaN</td>\n",
       "      <td>NaN</td>\n",
       "    </tr>\n",
       "    <tr>\n",
       "      <th>top</th>\n",
       "      <td>California</td>\n",
       "      <td>Not in a city</td>\n",
       "      <td>07/05/2007</td>\n",
       "      <td>NaN</td>\n",
       "      <td>NaN</td>\n",
       "      <td>NaN</td>\n",
       "      <td>NaN</td>\n",
       "      <td>NaN</td>\n",
       "      <td>NaN</td>\n",
       "      <td>NaN</td>\n",
       "      <td>NaN</td>\n",
       "      <td>NaN</td>\n",
       "      <td>NaN</td>\n",
       "      <td>NaN</td>\n",
       "      <td>NaN</td>\n",
       "      <td>NaN</td>\n",
       "      <td>NaN</td>\n",
       "      <td>NaN</td>\n",
       "      <td>NaN</td>\n",
       "    </tr>\n",
       "    <tr>\n",
       "      <th>freq</th>\n",
       "      <td>99363</td>\n",
       "      <td>16351</td>\n",
       "      <td>97</td>\n",
       "      <td>NaN</td>\n",
       "      <td>NaN</td>\n",
       "      <td>NaN</td>\n",
       "      <td>NaN</td>\n",
       "      <td>NaN</td>\n",
       "      <td>NaN</td>\n",
       "      <td>NaN</td>\n",
       "      <td>NaN</td>\n",
       "      <td>NaN</td>\n",
       "      <td>NaN</td>\n",
       "      <td>NaN</td>\n",
       "      <td>NaN</td>\n",
       "      <td>NaN</td>\n",
       "      <td>NaN</td>\n",
       "      <td>NaN</td>\n",
       "      <td>NaN</td>\n",
       "    </tr>\n",
       "    <tr>\n",
       "      <th>mean</th>\n",
       "      <td>NaN</td>\n",
       "      <td>NaN</td>\n",
       "      <td>NaN</td>\n",
       "      <td>14.473810</td>\n",
       "      <td>28.104104</td>\n",
       "      <td>11.865101</td>\n",
       "      <td>26.550905</td>\n",
       "      <td>0.025736</td>\n",
       "      <td>0.039665</td>\n",
       "      <td>10.158101</td>\n",
       "      <td>36.056562</td>\n",
       "      <td>2.501974</td>\n",
       "      <td>6.962152</td>\n",
       "      <td>8.452951</td>\n",
       "      <td>9.677710</td>\n",
       "      <td>0.423971</td>\n",
       "      <td>0.617201</td>\n",
       "      <td>6.760687</td>\n",
       "      <td>7.021432</td>\n",
       "    </tr>\n",
       "    <tr>\n",
       "      <th>std</th>\n",
       "      <td>NaN</td>\n",
       "      <td>NaN</td>\n",
       "      <td>NaN</td>\n",
       "      <td>10.037609</td>\n",
       "      <td>16.699588</td>\n",
       "      <td>7.861642</td>\n",
       "      <td>15.803095</td>\n",
       "      <td>0.011654</td>\n",
       "      <td>0.016143</td>\n",
       "      <td>3.909266</td>\n",
       "      <td>20.826475</td>\n",
       "      <td>3.225265</td>\n",
       "      <td>10.460867</td>\n",
       "      <td>6.765220</td>\n",
       "      <td>13.756552</td>\n",
       "      <td>0.362599</td>\n",
       "      <td>0.588634</td>\n",
       "      <td>7.987228</td>\n",
       "      <td>6.713026</td>\n",
       "    </tr>\n",
       "    <tr>\n",
       "      <th>min</th>\n",
       "      <td>NaN</td>\n",
       "      <td>NaN</td>\n",
       "      <td>NaN</td>\n",
       "      <td>0.000000</td>\n",
       "      <td>0.000000</td>\n",
       "      <td>0.000000</td>\n",
       "      <td>0.000000</td>\n",
       "      <td>0.000000</td>\n",
       "      <td>0.000000</td>\n",
       "      <td>0.000000</td>\n",
       "      <td>0.000000</td>\n",
       "      <td>-0.454545</td>\n",
       "      <td>0.000000</td>\n",
       "      <td>0.000000</td>\n",
       "      <td>0.000000</td>\n",
       "      <td>0.000000</td>\n",
       "      <td>0.000000</td>\n",
       "      <td>0.000000</td>\n",
       "      <td>0.000000</td>\n",
       "    </tr>\n",
       "    <tr>\n",
       "      <th>25%</th>\n",
       "      <td>NaN</td>\n",
       "      <td>NaN</td>\n",
       "      <td>NaN</td>\n",
       "      <td>7.086957</td>\n",
       "      <td>16.000000</td>\n",
       "      <td>6.000000</td>\n",
       "      <td>15.000000</td>\n",
       "      <td>0.017208</td>\n",
       "      <td>0.029000</td>\n",
       "      <td>9.000000</td>\n",
       "      <td>25.000000</td>\n",
       "      <td>0.476190</td>\n",
       "      <td>1.000000</td>\n",
       "      <td>2.000000</td>\n",
       "      <td>1.000000</td>\n",
       "      <td>0.200000</td>\n",
       "      <td>0.300000</td>\n",
       "      <td>0.000000</td>\n",
       "      <td>3.000000</td>\n",
       "    </tr>\n",
       "    <tr>\n",
       "      <th>50%</th>\n",
       "      <td>NaN</td>\n",
       "      <td>NaN</td>\n",
       "      <td>NaN</td>\n",
       "      <td>12.500000</td>\n",
       "      <td>27.000000</td>\n",
       "      <td>10.000000</td>\n",
       "      <td>25.000000</td>\n",
       "      <td>0.025458</td>\n",
       "      <td>0.039000</td>\n",
       "      <td>10.000000</td>\n",
       "      <td>33.000000</td>\n",
       "      <td>1.434783</td>\n",
       "      <td>3.500000</td>\n",
       "      <td>8.000000</td>\n",
       "      <td>4.000000</td>\n",
       "      <td>0.341667</td>\n",
       "      <td>0.500000</td>\n",
       "      <td>4.000000</td>\n",
       "      <td>6.000000</td>\n",
       "    </tr>\n",
       "    <tr>\n",
       "      <th>75%</th>\n",
       "      <td>NaN</td>\n",
       "      <td>NaN</td>\n",
       "      <td>NaN</td>\n",
       "      <td>19.750000</td>\n",
       "      <td>38.000000</td>\n",
       "      <td>20.000000</td>\n",
       "      <td>36.000000</td>\n",
       "      <td>0.033625</td>\n",
       "      <td>0.049000</td>\n",
       "      <td>11.000000</td>\n",
       "      <td>42.000000</td>\n",
       "      <td>3.295739</td>\n",
       "      <td>8.000000</td>\n",
       "      <td>13.000000</td>\n",
       "      <td>11.000000</td>\n",
       "      <td>0.545833</td>\n",
       "      <td>0.800000</td>\n",
       "      <td>10.000000</td>\n",
       "      <td>9.000000</td>\n",
       "    </tr>\n",
       "    <tr>\n",
       "      <th>max</th>\n",
       "      <td>NaN</td>\n",
       "      <td>NaN</td>\n",
       "      <td>NaN</td>\n",
       "      <td>139.541667</td>\n",
       "      <td>267.000000</td>\n",
       "      <td>23.000000</td>\n",
       "      <td>132.000000</td>\n",
       "      <td>0.095083</td>\n",
       "      <td>0.141000</td>\n",
       "      <td>23.000000</td>\n",
       "      <td>211.000000</td>\n",
       "      <td>321.625000</td>\n",
       "      <td>351.000000</td>\n",
       "      <td>23.000000</td>\n",
       "      <td>200.000000</td>\n",
       "      <td>7.508333</td>\n",
       "      <td>15.500000</td>\n",
       "      <td>23.000000</td>\n",
       "      <td>201.000000</td>\n",
       "    </tr>\n",
       "  </tbody>\n",
       "</table>\n",
       "</div>"
      ],
      "text/plain": [
       "             State           City  Date Local       NO2 Mean  \\\n",
       "count       261662         261662      261662  261662.000000   \n",
       "unique          37            120        4018            NaN   \n",
       "top     California  Not in a city  07/05/2007            NaN   \n",
       "freq         99363          16351          97            NaN   \n",
       "mean           NaN            NaN         NaN      14.473810   \n",
       "std            NaN            NaN         NaN      10.037609   \n",
       "min            NaN            NaN         NaN       0.000000   \n",
       "25%            NaN            NaN         NaN       7.086957   \n",
       "50%            NaN            NaN         NaN      12.500000   \n",
       "75%            NaN            NaN         NaN      19.750000   \n",
       "max            NaN            NaN         NaN     139.541667   \n",
       "\n",
       "        NO2 1st Max Value  NO2 1st Max Hour        NO2 AQI        O3 Mean  \\\n",
       "count       261662.000000     261662.000000  261662.000000  261662.000000   \n",
       "unique                NaN               NaN            NaN            NaN   \n",
       "top                   NaN               NaN            NaN            NaN   \n",
       "freq                  NaN               NaN            NaN            NaN   \n",
       "mean            28.104104         11.865101      26.550905       0.025736   \n",
       "std             16.699588          7.861642      15.803095       0.011654   \n",
       "min              0.000000          0.000000       0.000000       0.000000   \n",
       "25%             16.000000          6.000000      15.000000       0.017208   \n",
       "50%             27.000000         10.000000      25.000000       0.025458   \n",
       "75%             38.000000         20.000000      36.000000       0.033625   \n",
       "max            267.000000         23.000000     132.000000       0.095083   \n",
       "\n",
       "        O3 1st Max Value  O3 1st Max Hour         O3 AQI       SO2 Mean  \\\n",
       "count      261662.000000    261662.000000  261662.000000  261662.000000   \n",
       "unique               NaN              NaN            NaN            NaN   \n",
       "top                  NaN              NaN            NaN            NaN   \n",
       "freq                 NaN              NaN            NaN            NaN   \n",
       "mean            0.039665        10.158101      36.056562       2.501974   \n",
       "std             0.016143         3.909266      20.826475       3.225265   \n",
       "min             0.000000         0.000000       0.000000      -0.454545   \n",
       "25%             0.029000         9.000000      25.000000       0.476190   \n",
       "50%             0.039000        10.000000      33.000000       1.434783   \n",
       "75%             0.049000        11.000000      42.000000       3.295739   \n",
       "max             0.141000        23.000000     211.000000     321.625000   \n",
       "\n",
       "        SO2 1st Max Value  SO2 1st Max Hour        SO2 AQI        CO Mean  \\\n",
       "count       261662.000000     261662.000000  261662.000000  261662.000000   \n",
       "unique                NaN               NaN            NaN            NaN   \n",
       "top                   NaN               NaN            NaN            NaN   \n",
       "freq                  NaN               NaN            NaN            NaN   \n",
       "mean             6.962152          8.452951       9.677710       0.423971   \n",
       "std             10.460867          6.765220      13.756552       0.362599   \n",
       "min              0.000000          0.000000       0.000000       0.000000   \n",
       "25%              1.000000          2.000000       1.000000       0.200000   \n",
       "50%              3.500000          8.000000       4.000000       0.341667   \n",
       "75%              8.000000         13.000000      11.000000       0.545833   \n",
       "max            351.000000         23.000000     200.000000       7.508333   \n",
       "\n",
       "        CO 1st Max Value  CO 1st Max Hour         CO AQI  \n",
       "count      261662.000000    261662.000000  261662.000000  \n",
       "unique               NaN              NaN            NaN  \n",
       "top                  NaN              NaN            NaN  \n",
       "freq                 NaN              NaN            NaN  \n",
       "mean            0.617201         6.760687       7.021432  \n",
       "std             0.588634         7.987228       6.713026  \n",
       "min             0.000000         0.000000       0.000000  \n",
       "25%             0.300000         0.000000       3.000000  \n",
       "50%             0.500000         4.000000       6.000000  \n",
       "75%             0.800000        10.000000       9.000000  \n",
       "max            15.500000        23.000000     201.000000  "
      ]
     },
     "execution_count": 13,
     "metadata": {},
     "output_type": "execute_result"
    }
   ],
   "source": [
    "data_no_dupl.describe(include='all')"
   ]
  },
  {
   "cell_type": "markdown",
   "metadata": {},
   "source": [
    "##### Check for outliers"
   ]
  },
  {
   "cell_type": "markdown",
   "metadata": {},
   "source": [
    "View the values of each  NO2 AQI, O3 AQI,SO2 AQI and CO AQI to spot potential outliers"
   ]
  },
  {
   "cell_type": "code",
   "execution_count": 14,
   "metadata": {},
   "outputs": [
    {
     "name": "stderr",
     "output_type": "stream",
     "text": [
      "C:\\Users\\HP\\Anaconda3\\lib\\site-packages\\statsmodels\\tools\\_testing.py:19: FutureWarning: pandas.util.testing is deprecated. Use the functions in the public API at pandas.testing instead.\n",
      "  import pandas.util.testing as tm\n"
     ]
    },
    {
     "data": {
      "text/plain": [
       "<matplotlib.axes._subplots.AxesSubplot at 0x1fb288c7a88>"
      ]
     },
     "execution_count": 14,
     "metadata": {},
     "output_type": "execute_result"
    },
    {
     "data": {
      "image/png": "[encoded data removed]",
      "text/plain": [
       "<Figure size 432x288 with 1 Axes>"
      ]
     },
     "metadata": {
      "needs_background": "light"
     },
     "output_type": "display_data"
    }
   ],
   "source": [
    "import seaborn as sb\n",
    "sb.distplot(data_no_dupl['CO AQI'])"
   ]
  },
  {
   "cell_type": "markdown",
   "metadata": {},
   "source": [
    "From the distplot we can see that the big majority of observed values lie in the range of 0-25 CO parts per million.\n",
    "To prevent outlying observations influencing the analysis, I apply the common approach of excluding the observations that lie outside the 99th percentile."
   ]
  },
  {
   "cell_type": "code",
   "execution_count": 15,
   "metadata": {},
   "outputs": [
    {
     "data": {
      "text/plain": [
       "33.0"
      ]
     },
     "execution_count": 15,
     "metadata": {},
     "output_type": "execute_result"
    }
   ],
   "source": [
    "q = data_no_dupl['CO AQI'].quantile(0.99)\n",
    "q"
   ]
  },
  {
   "cell_type": "markdown",
   "metadata": {},
   "source": [
    "# Decide here if values greater 33 are really \"outliers\" and thus should be dropped or keep them."
   ]
  },
  {
   "cell_type": "code",
   "execution_count": 16,
   "metadata": {},
   "outputs": [
    {
     "data": {
      "text/html": [
       "<div>\n",
       "<style scoped>\n",
       "    .dataframe tbody tr th:only-of-type {\n",
       "        vertical-align: middle;\n",
       "    }\n",
       "\n",
       "    .dataframe tbody tr th {\n",
       "        vertical-align: top;\n",
       "    }\n",
       "\n",
       "    .dataframe thead th {\n",
       "        text-align: right;\n",
       "    }\n",
       "</style>\n",
       "<table border=\"1\" class=\"dataframe\">\n",
       "  <thead>\n",
       "    <tr style=\"text-align: right;\">\n",
       "      <th></th>\n",
       "      <th>State</th>\n",
       "      <th>City</th>\n",
       "      <th>Date Local</th>\n",
       "      <th>NO2 Mean</th>\n",
       "      <th>NO2 1st Max Value</th>\n",
       "      <th>NO2 1st Max Hour</th>\n",
       "      <th>NO2 AQI</th>\n",
       "      <th>O3 Mean</th>\n",
       "      <th>O3 1st Max Value</th>\n",
       "      <th>O3 1st Max Hour</th>\n",
       "      <th>O3 AQI</th>\n",
       "      <th>SO2 Mean</th>\n",
       "      <th>SO2 1st Max Value</th>\n",
       "      <th>SO2 1st Max Hour</th>\n",
       "      <th>SO2 AQI</th>\n",
       "      <th>CO Mean</th>\n",
       "      <th>CO 1st Max Value</th>\n",
       "      <th>CO 1st Max Hour</th>\n",
       "      <th>CO AQI</th>\n",
       "    </tr>\n",
       "  </thead>\n",
       "  <tbody>\n",
       "    <tr>\n",
       "      <th>13</th>\n",
       "      <td>Arizona</td>\n",
       "      <td>Phoenix</td>\n",
       "      <td>04/01/2000</td>\n",
       "      <td>40.260870</td>\n",
       "      <td>74.0</td>\n",
       "      <td>8</td>\n",
       "      <td>72</td>\n",
       "      <td>0.014167</td>\n",
       "      <td>0.033</td>\n",
       "      <td>9</td>\n",
       "      <td>28</td>\n",
       "      <td>7.083333</td>\n",
       "      <td>16.0</td>\n",
       "      <td>8</td>\n",
       "      <td>23.0</td>\n",
       "      <td>1.829167</td>\n",
       "      <td>3.0</td>\n",
       "      <td>23</td>\n",
       "      <td>34.0</td>\n",
       "    </tr>\n",
       "    <tr>\n",
       "      <th>17</th>\n",
       "      <td>Arizona</td>\n",
       "      <td>Phoenix</td>\n",
       "      <td>05/01/2000</td>\n",
       "      <td>48.450000</td>\n",
       "      <td>61.0</td>\n",
       "      <td>22</td>\n",
       "      <td>58</td>\n",
       "      <td>0.006667</td>\n",
       "      <td>0.012</td>\n",
       "      <td>9</td>\n",
       "      <td>10</td>\n",
       "      <td>8.708333</td>\n",
       "      <td>15.0</td>\n",
       "      <td>7</td>\n",
       "      <td>21.0</td>\n",
       "      <td>2.700000</td>\n",
       "      <td>3.7</td>\n",
       "      <td>2</td>\n",
       "      <td>42.0</td>\n",
       "    </tr>\n",
       "    <tr>\n",
       "      <th>21</th>\n",
       "      <td>Arizona</td>\n",
       "      <td>Phoenix</td>\n",
       "      <td>06/01/2000</td>\n",
       "      <td>39.950000</td>\n",
       "      <td>73.0</td>\n",
       "      <td>8</td>\n",
       "      <td>71</td>\n",
       "      <td>0.011750</td>\n",
       "      <td>0.025</td>\n",
       "      <td>10</td>\n",
       "      <td>21</td>\n",
       "      <td>6.761905</td>\n",
       "      <td>17.0</td>\n",
       "      <td>7</td>\n",
       "      <td>24.0</td>\n",
       "      <td>2.308333</td>\n",
       "      <td>3.6</td>\n",
       "      <td>9</td>\n",
       "      <td>41.0</td>\n",
       "    </tr>\n",
       "    <tr>\n",
       "      <th>25</th>\n",
       "      <td>Arizona</td>\n",
       "      <td>Phoenix</td>\n",
       "      <td>07/01/2000</td>\n",
       "      <td>29.625000</td>\n",
       "      <td>43.0</td>\n",
       "      <td>9</td>\n",
       "      <td>41</td>\n",
       "      <td>0.011625</td>\n",
       "      <td>0.024</td>\n",
       "      <td>10</td>\n",
       "      <td>20</td>\n",
       "      <td>8.666667</td>\n",
       "      <td>21.0</td>\n",
       "      <td>7</td>\n",
       "      <td>30.0</td>\n",
       "      <td>1.829167</td>\n",
       "      <td>3.5</td>\n",
       "      <td>23</td>\n",
       "      <td>40.0</td>\n",
       "    </tr>\n",
       "    <tr>\n",
       "      <th>29</th>\n",
       "      <td>Arizona</td>\n",
       "      <td>Phoenix</td>\n",
       "      <td>08/01/2000</td>\n",
       "      <td>29.666667</td>\n",
       "      <td>41.0</td>\n",
       "      <td>0</td>\n",
       "      <td>39</td>\n",
       "      <td>0.009750</td>\n",
       "      <td>0.020</td>\n",
       "      <td>10</td>\n",
       "      <td>17</td>\n",
       "      <td>8.250000</td>\n",
       "      <td>18.0</td>\n",
       "      <td>0</td>\n",
       "      <td>26.0</td>\n",
       "      <td>2.787500</td>\n",
       "      <td>5.1</td>\n",
       "      <td>2</td>\n",
       "      <td>57.0</td>\n",
       "    </tr>\n",
       "    <tr>\n",
       "      <th>...</th>\n",
       "      <td>...</td>\n",
       "      <td>...</td>\n",
       "      <td>...</td>\n",
       "      <td>...</td>\n",
       "      <td>...</td>\n",
       "      <td>...</td>\n",
       "      <td>...</td>\n",
       "      <td>...</td>\n",
       "      <td>...</td>\n",
       "      <td>...</td>\n",
       "      <td>...</td>\n",
       "      <td>...</td>\n",
       "      <td>...</td>\n",
       "      <td>...</td>\n",
       "      <td>...</td>\n",
       "      <td>...</td>\n",
       "      <td>...</td>\n",
       "      <td>...</td>\n",
       "      <td>...</td>\n",
       "    </tr>\n",
       "    <tr>\n",
       "      <th>989004</th>\n",
       "      <td>California</td>\n",
       "      <td>Calexico</td>\n",
       "      <td>14/12/2010</td>\n",
       "      <td>34.217391</td>\n",
       "      <td>64.0</td>\n",
       "      <td>9</td>\n",
       "      <td>62</td>\n",
       "      <td>0.005458</td>\n",
       "      <td>0.014</td>\n",
       "      <td>8</td>\n",
       "      <td>12</td>\n",
       "      <td>1.913043</td>\n",
       "      <td>6.0</td>\n",
       "      <td>14</td>\n",
       "      <td>9.0</td>\n",
       "      <td>2.325000</td>\n",
       "      <td>3.9</td>\n",
       "      <td>9</td>\n",
       "      <td>44.0</td>\n",
       "    </tr>\n",
       "    <tr>\n",
       "      <th>989052</th>\n",
       "      <td>California</td>\n",
       "      <td>Calexico</td>\n",
       "      <td>26/12/2010</td>\n",
       "      <td>14.086957</td>\n",
       "      <td>28.0</td>\n",
       "      <td>19</td>\n",
       "      <td>26</td>\n",
       "      <td>0.018417</td>\n",
       "      <td>0.033</td>\n",
       "      <td>6</td>\n",
       "      <td>28</td>\n",
       "      <td>0.043478</td>\n",
       "      <td>1.0</td>\n",
       "      <td>0</td>\n",
       "      <td>1.0</td>\n",
       "      <td>1.395833</td>\n",
       "      <td>3.4</td>\n",
       "      <td>2</td>\n",
       "      <td>39.0</td>\n",
       "    </tr>\n",
       "    <tr>\n",
       "      <th>1016810</th>\n",
       "      <td>District Of Columbia</td>\n",
       "      <td>Washington</td>\n",
       "      <td>14/01/2010</td>\n",
       "      <td>49.727273</td>\n",
       "      <td>86.0</td>\n",
       "      <td>8</td>\n",
       "      <td>85</td>\n",
       "      <td>0.006542</td>\n",
       "      <td>0.008</td>\n",
       "      <td>8</td>\n",
       "      <td>7</td>\n",
       "      <td>4.916667</td>\n",
       "      <td>12.0</td>\n",
       "      <td>12</td>\n",
       "      <td>17.0</td>\n",
       "      <td>2.275000</td>\n",
       "      <td>3.1</td>\n",
       "      <td>8</td>\n",
       "      <td>35.0</td>\n",
       "    </tr>\n",
       "    <tr>\n",
       "      <th>1018018</th>\n",
       "      <td>District Of Columbia</td>\n",
       "      <td>Washington</td>\n",
       "      <td>13/11/2010</td>\n",
       "      <td>40.000000</td>\n",
       "      <td>68.0</td>\n",
       "      <td>9</td>\n",
       "      <td>66</td>\n",
       "      <td>0.010333</td>\n",
       "      <td>0.025</td>\n",
       "      <td>9</td>\n",
       "      <td>21</td>\n",
       "      <td>3.708333</td>\n",
       "      <td>6.0</td>\n",
       "      <td>10</td>\n",
       "      <td>9.0</td>\n",
       "      <td>2.575000</td>\n",
       "      <td>3.5</td>\n",
       "      <td>6</td>\n",
       "      <td>40.0</td>\n",
       "    </tr>\n",
       "    <tr>\n",
       "      <th>1018022</th>\n",
       "      <td>District Of Columbia</td>\n",
       "      <td>Washington</td>\n",
       "      <td>14/11/2010</td>\n",
       "      <td>27.333333</td>\n",
       "      <td>53.0</td>\n",
       "      <td>9</td>\n",
       "      <td>50</td>\n",
       "      <td>0.017750</td>\n",
       "      <td>0.032</td>\n",
       "      <td>12</td>\n",
       "      <td>27</td>\n",
       "      <td>3.375000</td>\n",
       "      <td>5.0</td>\n",
       "      <td>11</td>\n",
       "      <td>7.0</td>\n",
       "      <td>2.291667</td>\n",
       "      <td>3.1</td>\n",
       "      <td>5</td>\n",
       "      <td>35.0</td>\n",
       "    </tr>\n",
       "  </tbody>\n",
       "</table>\n",
       "<p>2393 rows × 19 columns</p>\n",
       "</div>"
      ],
      "text/plain": [
       "                        State        City  Date Local   NO2 Mean  \\\n",
       "13                    Arizona     Phoenix  04/01/2000  40.260870   \n",
       "17                    Arizona     Phoenix  05/01/2000  48.450000   \n",
       "21                    Arizona     Phoenix  06/01/2000  39.950000   \n",
       "25                    Arizona     Phoenix  07/01/2000  29.625000   \n",
       "29                    Arizona     Phoenix  08/01/2000  29.666667   \n",
       "...                       ...         ...         ...        ...   \n",
       "989004             California    Calexico  14/12/2010  34.217391   \n",
       "989052             California    Calexico  26/12/2010  14.086957   \n",
       "1016810  District Of Columbia  Washington  14/01/2010  49.727273   \n",
       "1018018  District Of Columbia  Washington  13/11/2010  40.000000   \n",
       "1018022  District Of Columbia  Washington  14/11/2010  27.333333   \n",
       "\n",
       "         NO2 1st Max Value  NO2 1st Max Hour  NO2 AQI   O3 Mean  \\\n",
       "13                    74.0                 8       72  0.014167   \n",
       "17                    61.0                22       58  0.006667   \n",
       "21                    73.0                 8       71  0.011750   \n",
       "25                    43.0                 9       41  0.011625   \n",
       "29                    41.0                 0       39  0.009750   \n",
       "...                    ...               ...      ...       ...   \n",
       "989004                64.0                 9       62  0.005458   \n",
       "989052                28.0                19       26  0.018417   \n",
       "1016810               86.0                 8       85  0.006542   \n",
       "1018018               68.0                 9       66  0.010333   \n",
       "1018022               53.0                 9       50  0.017750   \n",
       "\n",
       "         O3 1st Max Value  O3 1st Max Hour  O3 AQI  SO2 Mean  \\\n",
       "13                  0.033                9      28  7.083333   \n",
       "17                  0.012                9      10  8.708333   \n",
       "21                  0.025               10      21  6.761905   \n",
       "25                  0.024               10      20  8.666667   \n",
       "29                  0.020               10      17  8.250000   \n",
       "...                   ...              ...     ...       ...   \n",
       "989004              0.014                8      12  1.913043   \n",
       "989052              0.033                6      28  0.043478   \n",
       "1016810             0.008                8       7  4.916667   \n",
       "1018018             0.025                9      21  3.708333   \n",
       "1018022             0.032               12      27  3.375000   \n",
       "\n",
       "         SO2 1st Max Value  SO2 1st Max Hour  SO2 AQI   CO Mean  \\\n",
       "13                    16.0                 8     23.0  1.829167   \n",
       "17                    15.0                 7     21.0  2.700000   \n",
       "21                    17.0                 7     24.0  2.308333   \n",
       "25                    21.0                 7     30.0  1.829167   \n",
       "29                    18.0                 0     26.0  2.787500   \n",
       "...                    ...               ...      ...       ...   \n",
       "989004                 6.0                14      9.0  2.325000   \n",
       "989052                 1.0                 0      1.0  1.395833   \n",
       "1016810               12.0                12     17.0  2.275000   \n",
       "1018018                6.0                10      9.0  2.575000   \n",
       "1018022                5.0                11      7.0  2.291667   \n",
       "\n",
       "         CO 1st Max Value  CO 1st Max Hour  CO AQI  \n",
       "13                    3.0               23    34.0  \n",
       "17                    3.7                2    42.0  \n",
       "21                    3.6                9    41.0  \n",
       "25                    3.5               23    40.0  \n",
       "29                    5.1                2    57.0  \n",
       "...                   ...              ...     ...  \n",
       "989004                3.9                9    44.0  \n",
       "989052                3.4                2    39.0  \n",
       "1016810               3.1                8    35.0  \n",
       "1018018               3.5                6    40.0  \n",
       "1018022               3.1                5    35.0  \n",
       "\n",
       "[2393 rows x 19 columns]"
      ]
     },
     "execution_count": 16,
     "metadata": {},
     "output_type": "execute_result"
    }
   ],
   "source": [
    "# Dropping observations that are greater than the 99th percentile of 33.\n",
    "data_no_dupl[data_no_dupl['CO AQI'] > q]"
   ]
  },
  {
   "cell_type": "markdown",
   "metadata": {},
   "source": [
    "No outlying values detected."
   ]
  },
  {
   "cell_type": "markdown",
   "metadata": {},
   "source": [
    "##### Check and clean indiv. variables"
   ]
  },
  {
   "cell_type": "markdown",
   "metadata": {},
   "source": [
    "1. State"
   ]
  },
  {
   "cell_type": "code",
   "execution_count": 17,
   "metadata": {},
   "outputs": [
    {
     "data": {
      "text/plain": [
       "array(['Arizona', 'California', 'Colorado', 'District Of Columbia',\n",
       "       'Florida', 'Illinois', 'Indiana', 'Kansas', 'Kentucky',\n",
       "       'Louisiana', 'Michigan', 'Missouri', 'New Jersey', 'New York',\n",
       "       'North Carolina', 'Oklahoma', 'Pennsylvania', 'Texas', 'Virginia',\n",
       "       'Massachusetts', 'Nevada', 'New Hampshire', 'Tennessee',\n",
       "       'South Carolina', 'Connecticut', 'Iowa', 'Maine', 'Maryland',\n",
       "       'Wisconsin', 'Country Of Mexico', 'Arkansas', 'Oregon', 'Wyoming',\n",
       "       'North Dakota', 'Idaho', 'Ohio', 'Georgia'], dtype=object)"
      ]
     },
     "execution_count": 17,
     "metadata": {},
     "output_type": "execute_result"
    }
   ],
   "source": [
    "data_no_dupl['State'].unique()"
   ]
  },
  {
   "cell_type": "code",
   "execution_count": 18,
   "metadata": {},
   "outputs": [],
   "source": [
    "# Remove all rows that contain string 'Country Of Mexico' in column 'State'\n",
    "data_var1 = data_no_dupl[~data_no_dupl.State.str.contains(\"Country Of Mexico\")]"
   ]
  },
  {
   "cell_type": "markdown",
   "metadata": {},
   "source": [
    "2. City"
   ]
  },
  {
   "cell_type": "code",
   "execution_count": 19,
   "metadata": {},
   "outputs": [
    {
     "data": {
      "text/plain": [
       "array(['Phoenix', 'Scottsdale', 'Tucson', 'Concord', 'Bethel Island',\n",
       "       'San Pablo', 'Pittsburg', 'Calexico', 'Bakersfield', 'Burbank',\n",
       "       'Los Angeles', 'Long Beach', 'Hawthorne', 'Costa Mesa', 'Rubidoux',\n",
       "       'Not in a city', 'Arden-Arcade', 'Victorville', 'Chula Vista',\n",
       "       'San Diego', 'San Francisco', 'Capitan', 'Lompoc', 'Goleta',\n",
       "       'Vandenberg Air Force Base', 'Davenport', 'Vallejo', 'Welby',\n",
       "       'Washington', 'Winter Park', 'Chicago', 'Cicero',\n",
       "       'Calumet City (PU RR name Calumet Park (sta.))',\n",
       "       'Indianapolis (Remainder)', 'Kansas City', 'Ashland',\n",
       "       'Lexington-Fayette (corporate name for Lexington)', 'Henderson',\n",
       "       'Louisville', 'Paducah', 'Baton Rouge', 'Detroit', 'Sunset Hills',\n",
       "       'Ladue', 'Ferguson', 'St. Ann', 'St. Louis', 'Camden', 'New York',\n",
       "       'Holtsville', 'Winston-Salem', 'Charlotte', 'Park Hill',\n",
       "       'Ponca City', 'Pittsburgh', 'Beaver Falls', 'Reading', 'Altoona',\n",
       "       'Bristol', 'Johnstown', 'Scranton', 'Lancaster', 'New Castle',\n",
       "       'Norristown', 'Freemansburg', 'Philadelphia', 'Charleroi',\n",
       "       'Greensburg', 'York', 'Dallas', 'El Paso', 'Houston',\n",
       "       'Seven Corners', 'McLean', 'Alexandria', 'Oakland', 'Crockett',\n",
       "       'West Los Angeles', 'East Saint Louis', 'Boston',\n",
       "       'Breckenridge Hills', 'Boulder City', 'Newark', 'Miami',\n",
       "       'Grand Rapids', 'Manchester', 'Fresno', 'Denver', 'Kenner', 'Erie',\n",
       "       'Eureka', 'New Haven', 'Presque Isle', 'Essex', 'Tulsa',\n",
       "       'Wilkes-Barre', 'Annandale', 'Milwaukee', 'North Little Rock',\n",
       "       'Berkeley', 'Benicia', 'Westport', 'East Hartford', 'Valrico',\n",
       "       'Northbrook', 'Des Moines', 'Beltsville', 'Portland', 'Waco',\n",
       "       'Fontana', 'Cherry Tree', 'San Antonio', 'San Jose', 'Athens',\n",
       "       'Cupertino', 'Cornwall', 'Reno'], dtype=object)"
      ]
     },
     "execution_count": 19,
     "metadata": {},
     "output_type": "execute_result"
    }
   ],
   "source": [
    "data_var1['City'].unique()"
   ]
  },
  {
   "cell_type": "code",
   "execution_count": 20,
   "metadata": {},
   "outputs": [
    {
     "data": {
      "text/plain": [
       "16351"
      ]
     },
     "execution_count": 20,
     "metadata": {},
     "output_type": "execute_result"
    }
   ],
   "source": [
    "# Check all rows with string ''Not in a city''  in column 'City'\n",
    "len(data_var1[data_var1.City.str.contains('Not in a city')])"
   ]
  },
  {
   "cell_type": "code",
   "execution_count": 21,
   "metadata": {
    "scrolled": true
   },
   "outputs": [
    {
     "name": "stdout",
     "output_type": "stream",
     "text": [
      "16351\n"
     ]
    }
   ],
   "source": [
    "# Replace 'Not in a city' entries in 'City' column with the respective State name\n",
    "city =data_var1['City'] \n",
    "for city in range(len(data_var1['City'])):\n",
    "    if city == 'Not in a city':\n",
    "        data_var1['City'].replace ('Not in a city',data_var1['State'])\n",
    "print (len(data_var1[data_var1.City.str.contains('Not in a city')]))"
   ]
  },
  {
   "cell_type": "code",
   "execution_count": 27,
   "metadata": {},
   "outputs": [],
   "source": [
    "for x in range(len(data_var1['City'])):\n",
    "    if data_var1['City'].any == 'Not in a city':\n",
    "        data_var1['City'].replace ('Not in a city','State')\n"
   ]
  },
  {
   "cell_type": "markdown",
   "metadata": {},
   "source": [
    "for city in range(len(data_var1['City'])):                       \n",
    "    if data_var1.loc[data_var1['City'].all == 'Not in a city', 'City'] = 99:\n",
    "        print(data_var1['City'].unique)"
   ]
  },
  {
   "cell_type": "code",
   "execution_count": 28,
   "metadata": {},
   "outputs": [
    {
     "data": {
      "text/plain": [
       "259850"
      ]
     },
     "execution_count": 28,
     "metadata": {},
     "output_type": "execute_result"
    }
   ],
   "source": [
    "len(data_var1['City'] == 'Not in a city')"
   ]
  },
  {
   "cell_type": "code",
   "execution_count": 29,
   "metadata": {},
   "outputs": [
    {
     "data": {
      "text/plain": [
       "1          False\n",
       "5          False\n",
       "9          False\n",
       "13         False\n",
       "17         False\n",
       "           ...  \n",
       "1048555    False\n",
       "1048559    False\n",
       "1048563    False\n",
       "1048567    False\n",
       "1048571    False\n",
       "Name: City, Length: 259850, dtype: bool"
      ]
     },
     "execution_count": 29,
     "metadata": {},
     "output_type": "execute_result"
    }
   ],
   "source": [
    "data_var1['City'] == 'Not in a city'"
   ]
  },
  {
   "cell_type": "markdown",
   "metadata": {},
   "source": [
    "3. Date local"
   ]
  },
  {
   "cell_type": "markdown",
   "metadata": {},
   "source": [
    "##### Convert Date Local to date format"
   ]
  },
  {
   "cell_type": "code",
   "execution_count": null,
   "metadata": {
    "scrolled": true
   },
   "outputs": [],
   "source": [
    "# make copy of data first to avoid ~SettingWithCopyWarning~\n",
    "data_var1 = data_var1[data_var1['Date Local'].notnull()].copy()\n",
    "data_var1['Date Local'] = pd.to_datetime(data_var1['Date Local']) "
   ]
  },
  {
   "cell_type": "markdown",
   "metadata": {},
   "source": [
    "##### Extract years and months"
   ]
  },
  {
   "cell_type": "code",
   "execution_count": null,
   "metadata": {},
   "outputs": [],
   "source": [
    "data_var1['Year'] = data_var1.loc[:,'Date Local'].dt.year # year\n",
    "data_var1['Month'] = data_var1.loc[:,'Date Local'].dt.month # year\n",
    "data_var1.head()"
   ]
  },
  {
   "cell_type": "markdown",
   "metadata": {},
   "source": [
    "# Analysis 1:  Air Quality (AQI) development over time in California"
   ]
  },
  {
   "cell_type": "markdown",
   "metadata": {},
   "source": [
    "Take the AQI index of all four air pollution categories"
   ]
  },
  {
   "cell_type": "code",
   "execution_count": null,
   "metadata": {},
   "outputs": [],
   "source": [
    "# create sub data set with relevant variables only\n",
    "pollution_df = data_var1[['Date Local','Year','Month','State','City','NO2 AQI','O3 AQI','SO2 AQI','CO AQI']]"
   ]
  },
  {
   "cell_type": "markdown",
   "metadata": {},
   "source": [
    "##### Select California entries only  (obseverations for other states are relatively few)"
   ]
  },
  {
   "cell_type": "code",
   "execution_count": null,
   "metadata": {},
   "outputs": [],
   "source": [
    "pollution_CA = pollution_df [pollution_df['State'] == 'California']\n",
    "# reset column index\n",
    "pollution_CA.reset_index(drop=True)\n",
    "pollution_CA.head()"
   ]
  },
  {
   "cell_type": "markdown",
   "metadata": {},
   "source": [
    "For better handling and to prevent data size exceeding plotly data limit, select only 10% of the California data."
   ]
  },
  {
   "cell_type": "code",
   "execution_count": null,
   "metadata": {},
   "outputs": [],
   "source": [
    "CA_10per  = pollution_CA.sample(frac=0.1)\n",
    "print(CA_10per)"
   ]
  },
  {
   "cell_type": "markdown",
   "metadata": {},
   "source": [
    "Group subset by Year and Month and show mean values for each AQI category"
   ]
  },
  {
   "cell_type": "code",
   "execution_count": null,
   "metadata": {},
   "outputs": [],
   "source": [
    "pollution_grouped = pollution_CA.groupby(['Year', 'Month']).mean()\n",
    "pollution_grouped"
   ]
  },
  {
   "cell_type": "markdown",
   "metadata": {},
   "source": [
    "##### Subplots for each AQI category over time"
   ]
  },
  {
   "cell_type": "markdown",
   "metadata": {},
   "source": [
    "For better handling and to prevent data size exceeding plotly data limit, select only 10% of the California data."
   ]
  },
  {
   "cell_type": "code",
   "execution_count": null,
   "metadata": {},
   "outputs": [],
   "source": [
    "CA_10per  = pollution_CA.sample(frac=0.1).reset_index(drop=True)"
   ]
  },
  {
   "cell_type": "code",
   "execution_count": null,
   "metadata": {
    "scrolled": true
   },
   "outputs": [],
   "source": [
    "fig, (ax1, ax2,ax3,ax4) = pp.subplots(4,1, figsize = (15,15), sharex= True) # 4 rows, 1 column\n",
    "\n",
    "ax1.bar(CA_10per['Date Local'],CA_10per['CO AQI'], color = 'purple')\n",
    "ax1.set(xlabel=\"Date\",ylabel=\"CO\")\n",
    "ax1.set_title('CO AQI')\n",
    "\n",
    "ax2.bar( CA_10per['Date Local'], CA_10per['SO2 AQI'], color = 'red')\n",
    "ax2.set(xlabel=\"Date\",ylabel=\"SO2\")\n",
    "ax2.set_title('SO2 AQI')\n",
    "\n",
    "ax3.bar(CA_10per['Date Local'],CA_10per['NO2 AQI'], color = 'green')\n",
    "ax3.set(xlabel=\"Date\",ylabel=\"NO2\")\n",
    "ax3.set_title('NO2 AQI')\n",
    "\n",
    "ax4.bar(CA_10per['Date Local'],CA_10per['O3 AQI'], color = 'blue')\n",
    "ax4.set(xlabel=\"Date\",ylabel=\"O3\")\n",
    "ax4.set_title('O3 AQI')\n",
    "pp.show()"
   ]
  },
  {
   "cell_type": "markdown",
   "metadata": {},
   "source": [
    "While we observe reoccuring seasonal patterns for all of the four air quality index categories,\n",
    "for CO,SO2 and NO2 we see that less extremely high values were recorded and the overall measured values tend to have declined over the last years."
   ]
  },
  {
   "cell_type": "code",
   "execution_count": null,
   "metadata": {},
   "outputs": [],
   "source": [
    "# Create two new pd data frames\n",
    "AQI_time  = CA_10per[['Date Local','NO2 AQI','O3 AQI','SO2 AQI','CO AQI']] # all AQI incl. date\n",
    "AQI = AQI_time.iloc[:,1:]  # all AQI only"
   ]
  },
  {
   "cell_type": "markdown",
   "metadata": {},
   "source": [
    "##### Plotting with Plotly"
   ]
  },
  {
   "cell_type": "code",
   "execution_count": null,
   "metadata": {},
   "outputs": [],
   "source": [
    "import plotly.express as px \n",
    "import cufflinks as cf            # used to bind Plotly to pandas objects within Jupyter notebookimport chart_studio.plotly as py\n",
    "import chart_studio.tools as tls\n",
    "import plotly.graph_objs as go"
   ]
  },
  {
   "cell_type": "code",
   "execution_count": null,
   "metadata": {},
   "outputs": [],
   "source": [
    "tls.set_credentials_file(username='janRo', api_key='0uK7UFbgo7z8fpMpUvk8')"
   ]
  },
  {
   "cell_type": "markdown",
   "metadata": {},
   "source": [
    "Distribution of AQI values per AQI category in CA"
   ]
  },
  {
   "cell_type": "code",
   "execution_count": null,
   "metadata": {},
   "outputs": [],
   "source": [
    "AQI.iplot(kind='histogram', subplots= True, shape = (1,4),\n",
    "         xaxis_title=\"Count\", yaxis_title = 'Value', \n",
    "         color=[\"red\", \"goldenrod\", \"#00D\", 'lightgreen'],\n",
    "         title= {'text': \"Distribution of AQI values per AQI category in CA\"},\n",
    "         filename='US Pollution-CA-AQI-distrib-multiple-histo')"
   ]
  },
  {
   "cell_type": "markdown",
   "metadata": {},
   "source": [
    "Measured NO2 values are far more spread out then those of other AQI categories."
   ]
  },
  {
   "cell_type": "code",
   "execution_count": null,
   "metadata": {},
   "outputs": [],
   "source": [
    "# All four AQI categories over time\n",
    "fig = go.Figure()\n",
    "fig.add_trace(go.Scatter(x=AQI_time['Date Local'], y=AQI_time['NO2 AQI'],\n",
    "                    mode='markers', name='NO2 AQI', opacity=0.7))\n",
    "fig.add_trace(go.Scatter(x=AQI_time['Date Local'], y=AQI_time['O3 AQI'],\n",
    "                    mode='markers', name='O3 AQI', opacity=0.7))\n",
    "fig.add_trace(go.Scatter(x=AQI_time['Date Local'], y=AQI_time['SO2 AQI'],\n",
    "                    mode='markers', name='SO2 AQI', opacity=0.9))\n",
    "fig.add_trace(go.Scatter(x=AQI_time['Date Local'], y=AQI_time['CO AQI'],\n",
    "                    mode='markers', name='CO AQI', opacity=0.9))\n",
    "fig.show()"
   ]
  },
  {
   "cell_type": "code",
   "execution_count": null,
   "metadata": {},
   "outputs": [],
   "source": [
    "# Animated scatter for Californian cities' CO vs. SO2 development over time\n",
    "fig = px.scatter(CA_10per,x='SO2 AQI', y='CO AQI', \n",
    "             animation_frame='Year', animation_group='City',color='City',\n",
    "             range_y=[0, 50], range_x=[0, 50])\n",
    "fig.show()"
   ]
  },
  {
   "cell_type": "markdown",
   "metadata": {},
   "source": [
    "#### Scatter pair plots to see correlations between the four AQI categories"
   ]
  },
  {
   "cell_type": "code",
   "execution_count": null,
   "metadata": {},
   "outputs": [],
   "source": [
    "sb.pairplot(AQI_time)"
   ]
  },
  {
   "cell_type": "code",
   "execution_count": null,
   "metadata": {},
   "outputs": [],
   "source": []
  }
 ],
 "metadata": {
  "kernelspec": {
   "display_name": "Python 3",
   "language": "python",
   "name": "python3"
  },
  "language_info": {
   "codemirror_mode": {
    "name": "ipython",
    "version": 3
   },
   "file_extension": ".py",
   "mimetype": "text/x-python",
   "name": "python",
   "nbconvert_exporter": "python",
   "pygments_lexer": "ipython3",
   "version": "3.7.4"
  }
 },
 "nbformat": 4,
 "nbformat_minor": 4
}
